{
 "cells": [
  {
   "cell_type": "code",
   "execution_count": 1,
   "metadata": {
    "scrolled": true
   },
   "outputs": [],
   "source": [
    "using Flux\n",
    "using Flux: Data.DataLoader\n",
    "using Flux: onehotbatch, onecold, crossentropy, throttle\n",
    "using Flux: @epochs\n",
    "using Statistics\n",
    "using MLDatasets: SVHN2\n",
    "using Serialization: serialize, deserialize\n",
    "using PyCall\n",
    "using ImageView\n",
    "using Images\n",
    "using Flux\n",
    "using Flux: onehotbatch, onecold, crossentropy, throttle\n",
    "using Base.Iterators: repeated, partition\n",
    "using Printf, BSON, LinearAlgebra\n",
    "using Metalhead: trainimgs"
   ]
  },
  {
   "cell_type": "code",
   "execution_count": 2,
   "metadata": {},
   "outputs": [],
   "source": [
    "x_train, y_train = SVHN2.traindata()\n",
    "x_test, y_test = SVHN2.testdata();"
   ]
  },
  {
   "cell_type": "code",
   "execution_count": 47,
   "metadata": {},
   "outputs": [],
   "source": [
    "epochs = 20;\n",
    "batch_size = 64;"
   ]
  },
  {
   "cell_type": "code",
   "execution_count": 48,
   "metadata": {
    "scrolled": true
   },
   "outputs": [],
   "source": [
    "train_imgs = [Float32.(x_train[:, :, :, i]) for i in 1:size(x_train)[4]]\n",
    "train_labels = onehotbatch(reshape(y_train, (1, size(y_train)[1])), 1:10)\n",
    "train_X = [(cat(train_imgs[i]..., dims = 4), train_labels[:, i]) for i in partition(1:size(x_train)[4], batch_size)];"
   ]
  },
  {
   "cell_type": "code",
   "execution_count": 49,
   "metadata": {},
   "outputs": [],
   "source": [
    "test_imgs = [Float32.(x_test[:, :, :, i]) for i in 1:5000]\n",
    "test_labels = onehotbatch(y_test[1:5000], 1:10)\n",
    "test_X = cat(test_imgs..., dims = 4)\n",
    "test_Y = [test_labels[:, i] for i in 1:5000];"
   ]
  },
  {
   "cell_type": "code",
   "execution_count": 51,
   "metadata": {},
   "outputs": [],
   "source": [
    "model = Chain(\n",
    "    Conv((3, 3), 3=>16, pad=(1,1), relu),\n",
    "    MaxPool((2,2)),\n",
    "    Conv((3, 3), 16=>32, pad=(1,1), relu),\n",
    "    MaxPool((2,2)),\n",
    "    Conv((3, 3), 32=>32, pad=(1,1), relu),\n",
    "    MaxPool((2,2)),\n",
    "    x -> reshape(x, :, size(x, 4)),\n",
    "    Dense(512, 10),\n",
    "    softmax,\n",
    ");"
   ]
  },
  {
   "cell_type": "code",
   "execution_count": 52,
   "metadata": {},
   "outputs": [
    {
     "data": {
      "text/plain": [
       "OADAM(0.001, (0.5, 0.9), IdDict{Any,Any}())"
      ]
     },
     "execution_count": 52,
     "metadata": {},
     "output_type": "execute_result"
    }
   ],
   "source": [
    "loss(x, y) = Flux.mse(model(x),y)\n",
    "\n",
    "accuracy(x, y) = mean(onecold(model(x), 1:10) .== onecold(y, 1:10))\n",
    "\n",
    "opt = OADAM()"
   ]
  },
  {
   "cell_type": "code",
   "execution_count": 53,
   "metadata": {},
   "outputs": [
    {
     "data": {
      "text/plain": [
       "10×64 Array{Float32,2}:\n",
       " 0.101072   0.103532   0.107408   …  0.106786   0.113866   0.0994656\n",
       " 0.110122   0.106725   0.123303      0.112537   0.11084    0.109236\n",
       " 0.0916596  0.0923067  0.0832604     0.0809823  0.0838644  0.0924811\n",
       " 0.103014   0.102289   0.100855      0.104458   0.102226   0.103217\n",
       " 0.106402   0.109186   0.126762      0.115599   0.118602   0.110489\n",
       " 0.0994335  0.0999715  0.0951587  …  0.0979461  0.0990117  0.100463\n",
       " 0.102674   0.102719   0.105738      0.10679    0.103628   0.10062\n",
       " 0.10147    0.102919   0.103368      0.110249   0.101639   0.102591\n",
       " 0.0911628  0.0901203  0.0745476     0.0824927  0.0855616  0.0899217\n",
       " 0.0929902  0.0902318  0.0795987     0.0821595  0.0807616  0.0915141"
      ]
     },
     "execution_count": 53,
     "metadata": {},
     "output_type": "execute_result"
    }
   ],
   "source": [
    "model(train_X[1][1])"
   ]
  },
  {
   "cell_type": "code",
   "execution_count": 54,
   "metadata": {
    "scrolled": true
   },
   "outputs": [
    {
     "data": {
      "text/plain": [
       "0.1134"
      ]
     },
     "execution_count": 54,
     "metadata": {},
     "output_type": "execute_result"
    }
   ],
   "source": [
    "accuracy(test_X, test_labels)"
   ]
  },
  {
   "cell_type": "code",
   "execution_count": 55,
   "metadata": {},
   "outputs": [
    {
     "name": "stderr",
     "output_type": "stream",
     "text": [
      "┌ Info: Beginning training loop...\n",
      "└ @ Main In[55]:1\n",
      "┌ Info: [1]: Test accuracy: 0.7798\n",
      "└ @ Main In[55]:8\n",
      "┌ Info:  -> New best accuracy! Saving model out to SVHN_conv.bson\n",
      "└ @ Main In[55]:10\n",
      "┌ Info: [2]: Test accuracy: 0.8188\n",
      "└ @ Main In[55]:8\n",
      "┌ Info:  -> New best accuracy! Saving model out to SVHN_conv.bson\n",
      "└ @ Main In[55]:10\n",
      "┌ Info: [3]: Test accuracy: 0.8332\n",
      "└ @ Main In[55]:8\n",
      "┌ Info:  -> New best accuracy! Saving model out to SVHN_conv.bson\n",
      "└ @ Main In[55]:10\n",
      "┌ Info: [4]: Test accuracy: 0.8560\n",
      "└ @ Main In[55]:8\n",
      "┌ Info:  -> New best accuracy! Saving model out to SVHN_conv.bson\n",
      "└ @ Main In[55]:10\n",
      "┌ Info: [5]: Test accuracy: 0.8604\n",
      "└ @ Main In[55]:8\n",
      "┌ Info:  -> New best accuracy! Saving model out to SVHN_conv.bson\n",
      "└ @ Main In[55]:10\n",
      "┌ Info: [6]: Test accuracy: 0.8686\n",
      "└ @ Main In[55]:8\n",
      "┌ Info:  -> New best accuracy! Saving model out to SVHN_conv.bson\n",
      "└ @ Main In[55]:10\n",
      "┌ Info: [7]: Test accuracy: 0.8682\n",
      "└ @ Main In[55]:8\n",
      "┌ Info: [8]: Test accuracy: 0.8690\n",
      "└ @ Main In[55]:8\n",
      "┌ Info:  -> New best accuracy! Saving model out to SVHN_conv.bson\n",
      "└ @ Main In[55]:10\n",
      "┌ Info: [9]: Test accuracy: 0.8748\n",
      "└ @ Main In[55]:8\n",
      "┌ Info:  -> New best accuracy! Saving model out to SVHN_conv.bson\n",
      "└ @ Main In[55]:10\n",
      "┌ Info: [10]: Test accuracy: 0.8784\n",
      "└ @ Main In[55]:8\n",
      "┌ Info:  -> New best accuracy! Saving model out to SVHN_conv.bson\n",
      "└ @ Main In[55]:10\n",
      "┌ Info: [11]: Test accuracy: 0.8782\n",
      "└ @ Main In[55]:8\n",
      "┌ Info: [12]: Test accuracy: 0.8730\n",
      "└ @ Main In[55]:8\n",
      "┌ Info: [13]: Test accuracy: 0.8746\n",
      "└ @ Main In[55]:8\n",
      "┌ Info: [14]: Test accuracy: 0.8774\n",
      "└ @ Main In[55]:8\n",
      "┌ Info: [15]: Test accuracy: 0.8784\n",
      "└ @ Main In[55]:8\n",
      "┌ Warning:  -> Haven't improved in a while, dropping learning rate to 0.0001!\n",
      "└ @ Main In[55]:17\n",
      "┌ Info: [16]: Test accuracy: 0.8866\n",
      "└ @ Main In[55]:8\n",
      "┌ Info:  -> New best accuracy! Saving model out to SVHN_conv.bson\n",
      "└ @ Main In[55]:10\n",
      "┌ Info: [17]: Test accuracy: 0.8850\n",
      "└ @ Main In[55]:8\n",
      "┌ Info: [18]: Test accuracy: 0.8862\n",
      "└ @ Main In[55]:8\n",
      "┌ Info: [19]: Test accuracy: 0.8858\n",
      "└ @ Main In[55]:8\n",
      "┌ Info: [20]: Test accuracy: 0.8866\n",
      "└ @ Main In[55]:8\n"
     ]
    }
   ],
   "source": [
    "@info(\"Beginning training loop...\")\n",
    "best_acc = 0.0\n",
    "last_improvement = 0\n",
    "for epoch = 1:epochs\n",
    "    global best_acc, last_improvement\n",
    "    Flux.train!(loss, params(model), train_X, opt)\n",
    "    acc = accuracy(test_X, test_labels)\n",
    "    @info(@sprintf(\"[%d]: Test accuracy: %.4f\", epoch, acc))\n",
    "    if acc > best_acc\n",
    "        @info(\" -> New best accuracy! Saving model out to SVHN_conv.bson\")\n",
    "        BSON.@save \"SVHN_conv.bson\" model epoch acc\n",
    "        best_acc = acc\n",
    "        last_improvement = epoch\n",
    "    end\n",
    "    if epoch - last_improvement >= 5 && opt.eta > 1e-6\n",
    "        opt.eta /= 10.0\n",
    "        @warn(\" -> Haven't improved in a while, dropping learning rate to $(opt.eta)!\")\n",
    "        last_improvement = epoch\n",
    "    end\n",
    "    if epoch - last_improvement >= 10\n",
    "        @warn(\" -> We're calling this converged.\")\n",
    "        break\n",
    "    end\n",
    "end"
   ]
  },
  {
   "cell_type": "code",
   "execution_count": 56,
   "metadata": {},
   "outputs": [],
   "source": [
    "BSON.@load \"SVHN_conv.bson\" model"
   ]
  },
  {
   "cell_type": "code",
   "execution_count": 57,
   "metadata": {},
   "outputs": [
    {
     "data": {
      "text/plain": [
       "0.8866"
      ]
     },
     "execution_count": 57,
     "metadata": {},
     "output_type": "execute_result"
    }
   ],
   "source": [
    "accuracy(test_X, test_labels)"
   ]
  }
 ],
 "metadata": {
  "kernelspec": {
   "display_name": "Julia 1.5.3",
   "language": "julia",
   "name": "julia-1.5"
  },
  "language_info": {
   "file_extension": ".jl",
   "mimetype": "application/julia",
   "name": "julia",
   "version": "1.5.3"
  }
 },
 "nbformat": 4,
 "nbformat_minor": 4
}
