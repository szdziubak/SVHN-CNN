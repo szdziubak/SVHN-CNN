{
 "cells": [
  {
   "cell_type": "code",
   "execution_count": 1,
   "metadata": {},
   "outputs": [],
   "source": [
    "using Flux\n",
    "using Flux: Data.DataLoader\n",
    "using Flux: onehotbatch, onecold, crossentropy, throttle\n",
    "using Flux: @epochs\n",
    "using Statistics\n",
    "using MLDatasets\n",
    "using Serialization: serialize, deserialize\n",
    "using PyCall\n",
    "using ImageView\n",
    "using Flux\n",
    "using Flux: onehotbatch, onecold, crossentropy, throttle\n",
    "using Base.Iterators: repeated, partition\n",
    "using Printf, BSON, LinearAlgebra"
   ]
  },
  {
   "cell_type": "code",
   "execution_count": 2,
   "metadata": {},
   "outputs": [
    {
     "data": {
      "text/plain": [
       "(FixedPointNumbers.N0f8[0.149N0f8 0.153N0f8 … 0.196N0f8 0.188N0f8; 0.153N0f8 0.153N0f8 … 0.2N0f8 0.188N0f8; … ; 0.165N0f8 0.169N0f8 … 0.176N0f8 0.173N0f8; 0.153N0f8 0.153N0f8 … 0.165N0f8 0.165N0f8]\n",
       "\n",
       "FixedPointNumbers.N0f8[0.404N0f8 0.408N0f8 … 0.459N0f8 0.451N0f8; 0.408N0f8 0.408N0f8 … 0.463N0f8 0.451N0f8; … ; 0.404N0f8 0.396N0f8 … 0.455N0f8 0.451N0f8; 0.38N0f8 0.38N0f8 … 0.443N0f8 0.443N0f8]\n",
       "\n",
       "FixedPointNumbers.N0f8[0.235N0f8 0.239N0f8 … 0.298N0f8 0.29N0f8; 0.239N0f8 0.239N0f8 … 0.302N0f8 0.29N0f8; … ; 0.243N0f8 0.247N0f8 … 0.282N0f8 0.278N0f8; 0.224N0f8 0.224N0f8 … 0.271N0f8 0.278N0f8]\n",
       "\n",
       "FixedPointNumbers.N0f8[0.506N0f8 0.525N0f8 … 0.541N0f8 0.514N0f8; 0.498N0f8 0.522N0f8 … 0.51N0f8 0.478N0f8; … ; 0.482N0f8 0.494N0f8 … 0.396N0f8 0.435N0f8; 0.482N0f8 0.49N0f8 … 0.439N0f8 0.482N0f8]\n",
       "\n",
       "FixedPointNumbers.N0f8[0.557N0f8 0.588N0f8 … 0.596N0f8 0.569N0f8; 0.561N0f8 0.584N0f8 … 0.565N0f8 0.533N0f8; … ; 0.525N0f8 0.537N0f8 … 0.42N0f8 0.463N0f8; 0.529N0f8 0.537N0f8 … 0.463N0f8 0.51N0f8]\n",
       "\n",
       "FixedPointNumbers.N0f8[0.6N0f8 0.627N0f8 … 0.647N0f8 0.62N0f8; 0.596N0f8 0.62N0f8 … 0.616N0f8 0.584N0f8; … ; 0.612N0f8 0.616N0f8 … 0.525N0f8 0.565N0f8; 0.616N0f8 0.62N0f8 … 0.565N0f8 0.612N0f8]\n",
       "\n",
       "FixedPointNumbers.N0f8[0.588N0f8 0.588N0f8 … 0.576N0f8 0.624N0f8; 0.588N0f8 0.592N0f8 … 0.576N0f8 0.624N0f8; … ; 0.588N0f8 0.6N0f8 … 0.545N0f8 0.596N0f8; 0.576N0f8 0.588N0f8 … 0.541N0f8 0.596N0f8]\n",
       "\n",
       "FixedPointNumbers.N0f8[0.627N0f8 0.627N0f8 … 0.647N0f8 0.694N0f8; 0.639N0f8 0.639N0f8 … 0.643N0f8 0.694N0f8; … ; 0.671N0f8 0.671N0f8 … 0.608N0f8 0.659N0f8; 0.663N0f8 0.663N0f8 … 0.608N0f8 0.659N0f8]\n",
       "\n",
       "FixedPointNumbers.N0f8[0.663N0f8 0.663N0f8 … 0.702N0f8 0.741N0f8; 0.667N0f8 0.663N0f8 … 0.702N0f8 0.745N0f8; … ; 0.71N0f8 0.706N0f8 … 0.667N0f8 0.714N0f8; 0.706N0f8 0.702N0f8 … 0.671N0f8 0.718N0f8]\n",
       "\n",
       "...\n",
       "\n",
       "FixedPointNumbers.N0f8[0.451N0f8 0.478N0f8 … 0.459N0f8 0.518N0f8; 0.455N0f8 0.482N0f8 … 0.459N0f8 0.522N0f8; … ; 0.447N0f8 0.463N0f8 … 0.561N0f8 0.561N0f8; 0.451N0f8 0.467N0f8 … 0.565N0f8 0.565N0f8]\n",
       "\n",
       "FixedPointNumbers.N0f8[0.518N0f8 0.545N0f8 … 0.478N0f8 0.541N0f8; 0.522N0f8 0.549N0f8 … 0.478N0f8 0.549N0f8; … ; 0.533N0f8 0.545N0f8 … 0.612N0f8 0.612N0f8; 0.533N0f8 0.545N0f8 … 0.616N0f8 0.616N0f8]\n",
       "\n",
       "FixedPointNumbers.N0f8[0.557N0f8 0.58N0f8 … 0.537N0f8 0.596N0f8; 0.561N0f8 0.584N0f8 … 0.537N0f8 0.596N0f8; … ; 0.557N0f8 0.569N0f8 … 0.643N0f8 0.647N0f8; 0.561N0f8 0.573N0f8 … 0.647N0f8 0.647N0f8]\n",
       "\n",
       "FixedPointNumbers.N0f8[0.376N0f8 0.376N0f8 … 0.384N0f8 0.38N0f8; 0.38N0f8 0.38N0f8 … 0.388N0f8 0.388N0f8; … ; 0.341N0f8 0.341N0f8 … 0.463N0f8 0.435N0f8; 0.345N0f8 0.345N0f8 … 0.431N0f8 0.408N0f8]\n",
       "\n",
       "FixedPointNumbers.N0f8[0.255N0f8 0.255N0f8 … 0.263N0f8 0.259N0f8; 0.255N0f8 0.255N0f8 … 0.275N0f8 0.271N0f8; … ; 0.243N0f8 0.247N0f8 … 0.388N0f8 0.361N0f8; 0.247N0f8 0.251N0f8 … 0.357N0f8 0.333N0f8]\n",
       "\n",
       "FixedPointNumbers.N0f8[0.184N0f8 0.188N0f8 … 0.18N0f8 0.176N0f8; 0.192N0f8 0.196N0f8 … 0.188N0f8 0.188N0f8; … ; 0.216N0f8 0.212N0f8 … 0.325N0f8 0.29N0f8; 0.22N0f8 0.216N0f8 … 0.294N0f8 0.267N0f8]\n",
       "\n",
       "FixedPointNumbers.N0f8[0.396N0f8 0.427N0f8 … 0.408N0f8 0.373N0f8; 0.392N0f8 0.42N0f8 … 0.412N0f8 0.376N0f8; … ; 0.373N0f8 0.365N0f8 … 0.4N0f8 0.4N0f8; 0.376N0f8 0.365N0f8 … 0.4N0f8 0.4N0f8]\n",
       "\n",
       "FixedPointNumbers.N0f8[0.294N0f8 0.329N0f8 … 0.325N0f8 0.286N0f8; 0.286N0f8 0.314N0f8 … 0.329N0f8 0.29N0f8; … ; 0.247N0f8 0.239N0f8 … 0.278N0f8 0.278N0f8; 0.251N0f8 0.239N0f8 … 0.278N0f8 0.278N0f8]\n",
       "\n",
       "FixedPointNumbers.N0f8[0.235N0f8 0.271N0f8 … 0.278N0f8 0.243N0f8; 0.235N0f8 0.263N0f8 … 0.286N0f8 0.247N0f8; … ; 0.204N0f8 0.196N0f8 … 0.196N0f8 0.196N0f8; 0.2N0f8 0.192N0f8 … 0.196N0f8 0.196N0f8], [5, 2, 1, 10, 6, 1, 9, 1, 1, 8  …  1, 7, 1, 3, 6, 2, 2, 7, 6, 7])"
      ]
     },
     "execution_count": 2,
     "metadata": {},
     "output_type": "execute_result"
    }
   ],
   "source": [
    "x_train, y_train = SVHN2.traindata()\n",
    "x_test, y_test = SVHN2.testdata()"
   ]
  },
  {
   "cell_type": "code",
   "execution_count": 3,
   "metadata": {},
   "outputs": [],
   "source": [
    "epochs = 100;\n",
    "batch_size = 64;"
   ]
  },
  {
   "cell_type": "code",
   "execution_count": 4,
   "metadata": {},
   "outputs": [
    {
     "data": {
      "text/plain": [
       "make_minibatch (generic function with 1 method)"
      ]
     },
     "execution_count": 4,
     "metadata": {},
     "output_type": "execute_result"
    }
   ],
   "source": [
    "function make_minibatch(X, Y, idxs)\n",
    "    X_batch = Array{Float32}(undef, size(X[:,:,1, 1])..., 1, length(idxs))\n",
    "    for i in 1:length(idxs)\n",
    "        X_batch[:, :, :, i] .= Float32.(X[idxs[i]])\n",
    "    end\n",
    "    Y_batch = onehotbatch(Y[idxs], 1:10)\n",
    "    return (X_batch, Y_batch)\n",
    "end"
   ]
  },
  {
   "cell_type": "code",
   "execution_count": 5,
   "metadata": {},
   "outputs": [],
   "source": [
    "mb_idxs = partition(1:size(x_train)[4], batch_size)\n",
    "train_set = [make_minibatch(x_train, y_train, i) for i in mb_idxs];\n",
    "mb_idxs_test = partition(1:size(x_test)[4], batch_size)\n",
    "test_set = make_minibatch(x_test, y_test, 1:size(x_test)[4]);"
   ]
  },
  {
   "cell_type": "code",
   "execution_count": 6,
   "metadata": {},
   "outputs": [
    {
     "data": {
      "text/plain": [
       "ADAM(0.001, (0.9, 0.999), IdDict{Any, Any}())"
      ]
     },
     "execution_count": 6,
     "metadata": {},
     "output_type": "execute_result"
    }
   ],
   "source": [
    "function loss(x, y)\n",
    "    x_aug = x .+ 0.1f0*randn(eltype(x), size(x)) #szum losowy\n",
    "    y_hat = model(x_aug)\n",
    "    return crossentropy(y_hat, y)\n",
    "end\n",
    "accuracy(x, y) = mean(onecold(model(x)) .== onecold(y))\n",
    "opt = ADAM(0.001)"
   ]
  },
  {
   "cell_type": "code",
   "execution_count": 7,
   "metadata": {},
   "outputs": [],
   "source": [
    "model = Chain(\n",
    "    Conv((3, 3), 1=>16, pad=(1,1), relu),\n",
    "    MaxPool((2,2)),\n",
    "    Dropout(0.2),\n",
    "    Conv((3, 3), 16=>32, pad=(1,1), relu),\n",
    "    MaxPool((2,2)),\n",
    "    Dropout(0.2),\n",
    "    Conv((3, 3), 32=>32, pad=(1,1), relu),\n",
    "    MaxPool((2,2)),\n",
    "    Conv((3, 3), 32=>64, pad=(1,1), relu),\n",
    "    x -> reshape(x, :, size(x, 4)),\n",
    "    Dense(1024, 256, relu),\n",
    "    Dense(256, 64, elu),\n",
    "    Dropout(0.5),\n",
    "    Dense(64,10),\n",
    "    softmax\n",
    ");"
   ]
  },
  {
   "cell_type": "code",
   "execution_count": 8,
   "metadata": {},
   "outputs": [
    {
     "data": {
      "text/plain": [
       "10×26032 Matrix{Float32}:\n",
       " 0.0973738  0.0973054  0.0973054  …  0.0882875  0.0886673  0.0891121\n",
       " 0.100664   0.10068    0.10068       0.102526   0.102462   0.102385\n",
       " 0.100147   0.100151   0.100151      0.100557   0.100543   0.100526\n",
       " 0.101309   0.101342   0.101342      0.105496   0.105332   0.105138\n",
       " 0.0945639  0.0944251  0.0944251     0.0773232  0.077998   0.0787933\n",
       " 0.102182   0.10224    0.10224    …  0.109974   0.109639   0.109248\n",
       " 0.101173   0.101203   0.101203      0.104949   0.1048     0.104624\n",
       " 0.101665   0.101709   0.101709      0.107363   0.107127   0.106849\n",
       " 0.0994742  0.0994596  0.0994596     0.0971447  0.0972578  0.0973886\n",
       " 0.101448   0.101485   0.101485      0.106379   0.106174   0.105935"
      ]
     },
     "execution_count": 8,
     "metadata": {},
     "output_type": "execute_result"
    }
   ],
   "source": [
    "model(test_set[1])"
   ]
  },
  {
   "cell_type": "code",
   "execution_count": 9,
   "metadata": {},
   "outputs": [
    {
     "name": "stdout",
     "output_type": "stream",
     "text": [
      " 25.184027 seconds (1.15 M allocations: 6.138 GiB, 9.33% gc time, 4.02% compilation time)\n"
     ]
    },
    {
     "data": {
      "text/plain": [
       "0.07594499078057775"
      ]
     },
     "execution_count": 9,
     "metadata": {},
     "output_type": "execute_result"
    }
   ],
   "source": [
    "@time accuracy(test_set[:][1],test_set[:][2])"
   ]
  },
  {
   "cell_type": "code",
   "execution_count": 31,
   "metadata": {},
   "outputs": [],
   "source": [
    "Flux.train!(loss, params(model), train_set, opt)"
   ]
  },
  {
   "cell_type": "code",
   "execution_count": 10,
   "metadata": {},
   "outputs": [
    {
     "name": "stderr",
     "output_type": "stream",
     "text": [
      "┌ Info: Beginning training loop...\n",
      "└ @ Main In[10]:1\n",
      "┌ Info: [1]: Test accuracy: 0.1959\n",
      "└ @ Main In[10]:8\n",
      "┌ Info:  -> New best accuracy! Saving model out to SVHN_final_project.bson\n",
      "└ @ Main In[10]:14\n",
      "┌ Info: [2]: Test accuracy: 0.1959\n",
      "└ @ Main In[10]:8\n",
      "┌ Info:  -> New best accuracy! Saving model out to SVHN_final_project.bson\n",
      "└ @ Main In[10]:14\n"
     ]
    },
    {
     "ename": "LoadError",
     "evalue": "InterruptException:",
     "output_type": "error",
     "traceback": [
      "InterruptException:",
      "",
      "Stacktrace:",
      "  [1] try_yieldto(undo::typeof(Base.ensure_rescheduled))",
      "    @ Base .\\task.jl:705",
      "  [2] wait",
      "    @ .\\task.jl:764 [inlined]",
      "  [3] wait(c::Base.GenericCondition{Base.Threads.SpinLock})",
      "    @ Base .\\condition.jl:106",
      "  [4] _wait(t::Task)",
      "    @ Base .\\task.jl:288",
      "  [5] wait",
      "    @ .\\task.jl:315 [inlined]",
      "  [6] threading_run(func::Function)",
      "    @ Base.Threads .\\threadingconstructs.jl:34",
      "  [7] macro expansion",
      "    @ .\\threadingconstructs.jl:93 [inlined]",
      "  [8] conv_im2col!(y::Array{Float32, 5}, x::Array{Float32, 5}, w::Array{Float32, 5}, cdims::DenseConvDims{3, (3, 3, 1), 16, 32, (1, 1, 1), (1, 1, 1, 1, 0, 0), (1, 1, 1), false}; col::Array{Float32, 3}, alpha::Float32, beta::Float32)",
      "    @ NNlib ~\\.julia\\packages\\NNlib\\3MZcC\\src\\impl\\conv_im2col.jl:49",
      "  [9] conv_im2col!",
      "    @ ~\\.julia\\packages\\NNlib\\3MZcC\\src\\impl\\conv_im2col.jl:30 [inlined]",
      " [10] #conv!#147",
      "    @ ~\\.julia\\packages\\NNlib\\3MZcC\\src\\conv.jl:191 [inlined]",
      " [11] conv!(out::Array{Float32, 5}, in1::Array{Float32, 5}, in2::Array{Float32, 5}, cdims::DenseConvDims{3, (3, 3, 1), 16, 32, (1, 1, 1), (1, 1, 1, 1, 0, 0), (1, 1, 1), false})",
      "    @ NNlib ~\\.julia\\packages\\NNlib\\3MZcC\\src\\conv.jl:191",
      " [12] conv!(y::Array{Float32, 4}, x::Array{Float32, 4}, w::Array{Float32, 4}, cdims::DenseConvDims{2, (3, 3), 16, 32, (1, 1), (1, 1, 1, 1), (1, 1), false}; kwargs::Base.Iterators.Pairs{Union{}, Union{}, Tuple{}, NamedTuple{(), Tuple{}}})",
      "    @ NNlib ~\\.julia\\packages\\NNlib\\3MZcC\\src\\conv.jl:148",
      " [13] conv!",
      "    @ ~\\.julia\\packages\\NNlib\\3MZcC\\src\\conv.jl:148 [inlined]",
      " [14] conv(x::Array{Float32, 4}, w::Array{Float32, 4}, cdims::DenseConvDims{2, (3, 3), 16, 32, (1, 1), (1, 1, 1, 1), (1, 1), false}; kwargs::Base.Iterators.Pairs{Union{}, Union{}, Tuple{}, NamedTuple{(), Tuple{}}})",
      "    @ NNlib ~\\.julia\\packages\\NNlib\\3MZcC\\src\\conv.jl:91",
      " [15] conv",
      "    @ ~\\.julia\\packages\\NNlib\\3MZcC\\src\\conv.jl:89 [inlined]",
      " [16] #rrule#180",
      "    @ ~\\.julia\\packages\\NNlib\\3MZcC\\src\\conv.jl:233 [inlined]",
      " [17] rrule",
      "    @ ~\\.julia\\packages\\NNlib\\3MZcC\\src\\conv.jl:224 [inlined]",
      " [18] chain_rrule",
      "    @ ~\\.julia\\packages\\Zygote\\zowrf\\src\\compiler\\chainrules.jl:89 [inlined]",
      " [19] macro expansion",
      "    @ ~\\.julia\\packages\\Zygote\\zowrf\\src\\compiler\\interface2.jl:0 [inlined]",
      " [20] _pullback(::Zygote.Context, ::typeof(conv), ::Array{Float32, 4}, ::Array{Float32, 4}, ::DenseConvDims{2, (3, 3), 16, 32, (1, 1), (1, 1, 1, 1), (1, 1), false})",
      "    @ Zygote ~\\.julia\\packages\\Zygote\\zowrf\\src\\compiler\\interface2.jl:9",
      " [21] _pullback",
      "    @ ~\\.julia\\packages\\Flux\\0c9kI\\src\\layers\\conv.jl:157 [inlined]",
      " [22] _pullback(ctx::Zygote.Context, f::Conv{2, 2, typeof(relu), Array{Float32, 4}, Vector{Float32}}, args::Array{Float32, 4})",
      "    @ Zygote ~\\.julia\\packages\\Zygote\\zowrf\\src\\compiler\\interface2.jl:0",
      " [23] _pullback",
      "    @ ~\\.julia\\packages\\Flux\\0c9kI\\src\\layers\\basic.jl:36 [inlined]",
      " [24] _pullback(::Zygote.Context, ::typeof(Flux.applychain), ::Tuple{Conv{2, 2, typeof(relu), Array{Float32, 4}, Vector{Float32}}, MaxPool{2, 4}, Dropout{Float64, Colon}, Conv{2, 2, typeof(relu), Array{Float32, 4}, Vector{Float32}}, MaxPool{2, 4}, Conv{2, 2, typeof(relu), Array{Float32, 4}, Vector{Float32}}, var\"#3#4\", Dense{typeof(relu), Matrix{Float32}, Vector{Float32}}, Dense{typeof(elu), Matrix{Float32}, Vector{Float32}}, Dropout{Float64, Colon}, Dense{typeof(identity), Matrix{Float32}, Vector{Float32}}, typeof(softmax)}, ::Array{Float32, 4})",
      "    @ Zygote ~\\.julia\\packages\\Zygote\\zowrf\\src\\compiler\\interface2.jl:0",
      " [25] _pullback",
      "    @ ~\\.julia\\packages\\Flux\\0c9kI\\src\\layers\\basic.jl:36 [inlined]",
      " [26] _pullback(::Zygote.Context, ::typeof(Flux.applychain), ::Tuple{Dropout{Float64, Colon}, Conv{2, 2, typeof(relu), Array{Float32, 4}, Vector{Float32}}, MaxPool{2, 4}, Dropout{Float64, Colon}, Conv{2, 2, typeof(relu), Array{Float32, 4}, Vector{Float32}}, MaxPool{2, 4}, Conv{2, 2, typeof(relu), Array{Float32, 4}, Vector{Float32}}, var\"#3#4\", Dense{typeof(relu), Matrix{Float32}, Vector{Float32}}, Dense{typeof(elu), Matrix{Float32}, Vector{Float32}}, Dropout{Float64, Colon}, Dense{typeof(identity), Matrix{Float32}, Vector{Float32}}, typeof(softmax)}, ::Array{Float32, 4})",
      "    @ Zygote ~\\.julia\\packages\\Zygote\\zowrf\\src\\compiler\\interface2.jl:0",
      " [27] _pullback",
      "    @ ~\\.julia\\packages\\Flux\\0c9kI\\src\\layers\\basic.jl:36 [inlined]",
      " [28] _pullback(::Zygote.Context, ::typeof(Flux.applychain), ::Tuple{MaxPool{2, 4}, Dropout{Float64, Colon}, Conv{2, 2, typeof(relu), Array{Float32, 4}, Vector{Float32}}, MaxPool{2, 4}, Dropout{Float64, Colon}, Conv{2, 2, typeof(relu), Array{Float32, 4}, Vector{Float32}}, MaxPool{2, 4}, Conv{2, 2, typeof(relu), Array{Float32, 4}, Vector{Float32}}, var\"#3#4\", Dense{typeof(relu), Matrix{Float32}, Vector{Float32}}, Dense{typeof(elu), Matrix{Float32}, Vector{Float32}}, Dropout{Float64, Colon}, Dense{typeof(identity), Matrix{Float32}, Vector{Float32}}, typeof(softmax)}, ::Array{Float32, 4})",
      "    @ Zygote ~\\.julia\\packages\\Zygote\\zowrf\\src\\compiler\\interface2.jl:0",
      " [29] _pullback",
      "    @ ~\\.julia\\packages\\Flux\\0c9kI\\src\\layers\\basic.jl:36 [inlined]",
      " [30] _pullback(::Zygote.Context, ::typeof(Flux.applychain), ::Tuple{Conv{2, 2, typeof(relu), Array{Float32, 4}, Vector{Float32}}, MaxPool{2, 4}, Dropout{Float64, Colon}, Conv{2, 2, typeof(relu), Array{Float32, 4}, Vector{Float32}}, MaxPool{2, 4}, Dropout{Float64, Colon}, Conv{2, 2, typeof(relu), Array{Float32, 4}, Vector{Float32}}, MaxPool{2, 4}, Conv{2, 2, typeof(relu), Array{Float32, 4}, Vector{Float32}}, var\"#3#4\", Dense{typeof(relu), Matrix{Float32}, Vector{Float32}}, Dense{typeof(elu), Matrix{Float32}, Vector{Float32}}, Dropout{Float64, Colon}, Dense{typeof(identity), Matrix{Float32}, Vector{Float32}}, typeof(softmax)}, ::Array{Float32, 4})",
      "    @ Zygote ~\\.julia\\packages\\Zygote\\zowrf\\src\\compiler\\interface2.jl:0",
      " [31] _pullback",
      "    @ ~\\.julia\\packages\\Flux\\0c9kI\\src\\layers\\basic.jl:38 [inlined]",
      " [32] _pullback(ctx::Zygote.Context, f::Chain{Tuple{Conv{2, 2, typeof(relu), Array{Float32, 4}, Vector{Float32}}, MaxPool{2, 4}, Dropout{Float64, Colon}, Conv{2, 2, typeof(relu), Array{Float32, 4}, Vector{Float32}}, MaxPool{2, 4}, Dropout{Float64, Colon}, Conv{2, 2, typeof(relu), Array{Float32, 4}, Vector{Float32}}, MaxPool{2, 4}, Conv{2, 2, typeof(relu), Array{Float32, 4}, Vector{Float32}}, var\"#3#4\", Dense{typeof(relu), Matrix{Float32}, Vector{Float32}}, Dense{typeof(elu), Matrix{Float32}, Vector{Float32}}, Dropout{Float64, Colon}, Dense{typeof(identity), Matrix{Float32}, Vector{Float32}}, typeof(softmax)}}, args::Array{Float32, 4})",
      "    @ Zygote ~\\.julia\\packages\\Zygote\\zowrf\\src\\compiler\\interface2.jl:0",
      " [33] _pullback",
      "    @ .\\In[6]:3 [inlined]",
      " [34] _pullback(::Zygote.Context, ::typeof(loss), ::Array{Float32, 4}, ::Flux.OneHotArray{UInt32, 10, 1, 2, Vector{UInt32}})",
      "    @ Zygote ~\\.julia\\packages\\Zygote\\zowrf\\src\\compiler\\interface2.jl:0",
      " [35] _apply",
      "    @ .\\boot.jl:804 [inlined]",
      " [36] adjoint",
      "    @ ~\\.julia\\packages\\Zygote\\zowrf\\src\\lib\\lib.jl:191 [inlined]",
      " [37] _pullback",
      "    @ ~\\.julia\\packages\\ZygoteRules\\OjfTt\\src\\adjoint.jl:57 [inlined]",
      " [38] _pullback",
      "    @ ~\\.julia\\packages\\Flux\\0c9kI\\src\\optimise\\train.jl:102 [inlined]",
      " [39] _pullback(::Zygote.Context, ::Flux.Optimise.var\"#39#45\"{typeof(loss), Tuple{Array{Float32, 4}, Flux.OneHotArray{UInt32, 10, 1, 2, Vector{UInt32}}}})",
      "    @ Zygote ~\\.julia\\packages\\Zygote\\zowrf\\src\\compiler\\interface2.jl:0",
      " [40] pullback(f::Function, ps::Zygote.Params)",
      "    @ Zygote ~\\.julia\\packages\\Zygote\\zowrf\\src\\compiler\\interface.jl:250",
      " [41] gradient(f::Function, args::Zygote.Params)",
      "    @ Zygote ~\\.julia\\packages\\Zygote\\zowrf\\src\\compiler\\interface.jl:58",
      " [42] macro expansion",
      "    @ ~\\.julia\\packages\\Flux\\0c9kI\\src\\optimise\\train.jl:101 [inlined]",
      " [43] macro expansion",
      "    @ ~\\.julia\\packages\\Juno\\n6wyj\\src\\progress.jl:134 [inlined]",
      " [44] train!(loss::Function, ps::Zygote.Params, data::Vector{Tuple{Array{Float32, 4}, Flux.OneHotArray{UInt32, 10, 1, 2, Vector{UInt32}}}}, opt::ADAM; cb::Flux.Optimise.var\"#40#46\")",
      "    @ Flux.Optimise ~\\.julia\\packages\\Flux\\0c9kI\\src\\optimise\\train.jl:99",
      " [45] train!(loss::Function, ps::Zygote.Params, data::Vector{Tuple{Array{Float32, 4}, Flux.OneHotArray{UInt32, 10, 1, 2, Vector{UInt32}}}}, opt::ADAM)",
      "    @ Flux.Optimise ~\\.julia\\packages\\Flux\\0c9kI\\src\\optimise\\train.jl:97",
      " [46] top-level scope",
      "    @ .\\In[10]:6",
      " [47] eval",
      "    @ .\\boot.jl:360 [inlined]",
      " [48] include_string(mapexpr::typeof(REPL.softscope), mod::Module, code::String, filename::String)",
      "    @ Base .\\loading.jl:1094"
     ]
    }
   ],
   "source": [
    "@info(\"Beginning training loop...\")\n",
    "best_acc = 0.0\n",
    "last_improvement = 0\n",
    "for epoch = 1:epochs\n",
    "    global best_acc, last_improvement\n",
    "    Flux.train!(loss, params(model), train_set, opt)\n",
    "    acc = accuracy(test_set[1],test_set[2])\n",
    "    @info(@sprintf(\"[%d]: Test accuracy: %.4f\", epoch, acc))\n",
    "    if acc >= 0.96\n",
    "        @info(\" -> Early-exiting: We reached our target accuracy of 96%\")\n",
    "        break\n",
    "    end\n",
    "    if acc >= best_acc\n",
    "        @info(\" -> New best accuracy! Saving model out to SVHN_final_project.bson\")\n",
    "        BSON.@save \"SVHN_final_project.bson\" model epoch acc\n",
    "        best_acc = acc\n",
    "        last_improvement = epoch\n",
    "    end\n",
    "    if epoch - last_improvement >= 5 && opt.eta > 1e-6\n",
    "        opt.eta /= 10.0\n",
    "        @warn(\" -> Haven't improved in a while, dropping learning rate to $(opt.eta)!\")\n",
    "        last_improvement = epoch\n",
    "    end\n",
    "    if epoch - last_improvement >= 10\n",
    "        @warn(\" -> We're calling this converged.\")\n",
    "        break\n",
    "    end\n",
    "end"
   ]
  },
  {
   "cell_type": "code",
   "execution_count": 11,
   "metadata": {},
   "outputs": [],
   "source": [
    "BSON.@load \"SVHN_final_project.bson\" model epoch acc"
   ]
  }
 ],
 "metadata": {
  "kernelspec": {
   "display_name": "Julia 1.6.0",
   "language": "julia",
   "name": "julia-1.6"
  },
  "language_info": {
   "file_extension": ".jl",
   "mimetype": "application/julia",
   "name": "julia",
   "version": "1.6.0"
  }
 },
 "nbformat": 4,
 "nbformat_minor": 4
}
